{
 "cells": [
  {
   "cell_type": "code",
   "execution_count": null,
   "metadata": {},
   "outputs": [],
   "source": [
    "def equations(dist, Ci_Pipe, D_i, Q, pr):\n",
    "    \n",
    "    rho = 1000                                                     #Water density [kg/m^3]\n",
    "    mu = 0.001                                                     #Absolute viscosity [kg/m^3]\n",
    "    eps = 4.75E-05                                                 #Surface roughness [m]\n",
    "    g = 9.81                                                       #Gravity [m/s^2]\n",
    "    N_hour = 365*24                                                #Hours per year\n",
    "    i_int = 0.12                                                   #Interest rate\n",
    "    N_year = 20                                                    #Operational time [years]\n",
    "    Ce = 0.04                                                      #Energy price [USD/kWh]\n",
    "    \n",
    "    Ci = np.sum(Ci_Pipe*dist)                                      #Capital Cost [USD]\n",
    "    flow_m = (4*Q)/(np.pi*D_i**2)                                  #Water velocity [m/s]\n",
    "    Rey = rho*flow_m*D_i/mu                                        #Reynold's Number\n",
    "    f = 0.25/(np.log10((eps/D_i)/3.7+5.74/(Rey**0.9)))**2          #Frictional factor\n",
    "    f_loss = f*(flow_m**2)/(2*g)*dist/D_i                          #Frictinal head loss [m]\n",
    "    Pow_loss = rho*g*Q*f_loss/1000                                 #Power Loss [kW]\n",
    "    Co = np.sum(Pow_loss*N_hour*Ce)                                #Operational Cost [USD]\n",
    "\n",
    "    Tot_Cost = -(Ci+Co/i_int*(1-1/(1+i_int)**N_year))\n",
    "    \n",
    "    if pr == 1:\n",
    "        print(f\"Pipe price for each leg [USD]:                     {Ci_Pipe*dist}\")\n",
    "        print(f\"Flow for each leg [m^3/s]:                         {np.round(Q,2)}\")\n",
    "        print(f\"Flow velocity for each leg [m/s]:                  {np.round(flow_m,2)}\")\n",
    "        print(f\"Reynold's number for each leg:                     {np.round(Rey,0)}\")\n",
    "        print(f\"Friction factor for each leg:                      {np.round(f,4)}\")\n",
    "        print(f\"Frictional pressure head loss for each leg [m]:    {np.round(f_loss,1)}\")\n",
    "        print(f\"Power loss for each leg [kW]:                      {np.round(Pow_loss,1)}\")\n",
    "        print(f\"Operational Cost [USD]:                            {np.round(np.sum(Co,0))}\")\n",
    "        print(f\"Capital Cost [USD]:                                {Ci}\")\n",
    "        print(f\"Total Cost [USD]:                                  {np.round(Tot_Cost,0)}\")\n",
    "\n",
    "    return Tot_Cost"
   ]
  }
 ],
 "metadata": {
  "kernelspec": {
   "display_name": "Python 3",
   "language": "python",
   "name": "python3"
  },
  "language_info": {
   "codemirror_mode": {
    "name": "ipython",
    "version": 3
   },
   "file_extension": ".py",
   "mimetype": "text/x-python",
   "name": "python",
   "nbconvert_exporter": "python",
   "pygments_lexer": "ipython3",
   "version": "3.7.4"
  }
 },
 "nbformat": 4,
 "nbformat_minor": 2
}
